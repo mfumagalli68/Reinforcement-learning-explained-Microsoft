{
  "cells": [
    {
      "metadata": {},
      "cell_type": "markdown",
      "source": "# DAT257x: Reinforcement Learning Explained\n\n## Lab 4: Dynamic Programming\n\n### Exercise 4.4 Value Iteration"
    },
    {
      "metadata": {},
      "cell_type": "markdown",
      "source": "Value Iteration calculates the optimal policy for an MDP, given its full definition.  The full definition of an MDP is the set of states, the set of available actions for each state, the set of rewards, the discount factor, and the state/reward transition function."
    },
    {
      "metadata": {
        "trusted": true
      },
      "cell_type": "code",
      "source": "import test_dp               # required for testing and grading your code\nimport gridworld_mdp as gw   # defines the MDP for a 4x4 gridworld\nimport numpy as np",
      "execution_count": 7,
      "outputs": []
    },
    {
      "metadata": {},
      "cell_type": "markdown",
      "source": "**Implement the algorithm for Value Iteration**.  Value Iteration calculates the optimal policy for an MDP by iteration of a single step combining both policy evaluation and policy improvement.\n\nA empty function **value_iteration** is provided below; implement the body of the function to correctly calculate the optimal policy for an MDP.  The function defines 5 parameters - a definition of each parameter is given in the comment block for the function.  For sample parameter values, see the calling code in the cell following the function."
    },
    {
      "metadata": {
        "trusted": true
      },
      "cell_type": "code",
      "source": "def value_iteration(state_count, gamma, theta, get_available_actions, get_transitions):\n    \"\"\"\n    This function computes the optimal value function and policy for the specified MDP, using the Value Iteration algorithm.\n    \n    'state_count' is the total number of states in the MDP. States are represented as 0-relative numbers.\n    \n    'gamma' is the MDP discount factor for rewards.\n    \n    'theta' is the small number threshold to signal convergence of the value function (see Iterative Policy Evaluation algorithm).\n    \n    'get_available_actions' returns a list of the MDP available actions for the specified state parameter.\n    \n    'get_transitions' is the MDP state / reward transiton function.  It accepts two parameters, state and action, and returns\n        a list of tuples, where each tuple is of the form: (next_state, reward, probabiliity).  \n    \"\"\"\n    def one_step_look(s,act):\n        A=list()\n        for a in act:\n            #print (a)\n            action=0\n            trans = get_transitions(s,a)\n            for t in trans:\n                next_state, reward, prob = t\n                action += prob * (reward + gamma * V[next_state])\n            \n            A.append((a,action))\n            \n        #print(A)\n        return ( max(A,key=lambda x:x[1]))\n    \n    V = state_count*[0]                # init all state value estimates to 0\n    pi = state_count*[\"up\"]\n    \n    \n    # init with a policy with first avail action for each state\n    while True:\n        delta=0\n        for s in range(state_count):\n            avail_actions = get_available_actions(s)\n            action_value = one_step_look(s,avail_actions)\n            pi[s]=action_value[0]\n            delta = max(delta, np.abs(action_value[1]-V[s]))\n            V[s] = action_value[1]\n            \n        if delta<theta:\n            break\n    \n        \n    # insert code here to iterate using policy evaluation and policy improvement (see Policy Iteration algorithm)\n    return (V, pi)        # return both the final value function and the final policy",
      "execution_count": 10,
      "outputs": []
    },
    {
      "metadata": {},
      "cell_type": "markdown",
      "source": "First, test our function using the MDP defined by gw.* functions."
    },
    {
      "metadata": {
        "trusted": true
      },
      "cell_type": "code",
      "source": "n_states = gw.get_state_count()\n\n# test our function\nvalues, policy = value_iteration(state_count=n_states, gamma=.9, theta=.001, get_available_actions=gw.get_available_actions, \\\n    get_transitions=gw.get_transitions)\n\nprint(\"Values=\", values)\nprint(\"Policy=\", policy)",
      "execution_count": 11,
      "outputs": [
        {
          "output_type": "stream",
          "text": "Values= [0.0, -1.0, -1.9, -2.71, -1.0, -1.9, -2.71, -1.9, -1.9, -2.71, -1.9, -1.0, -2.71, -1.9, -1.0]\nPolicy= ['up', 'left', 'left', 'down', 'up', 'up', 'up', 'down', 'up', 'up', 'down', 'down', 'up', 'right', 'right']\n",
          "name": "stdout"
        }
      ]
    },
    {
      "metadata": {},
      "cell_type": "markdown",
      "source": "**Expected output from running above cell:**\n\n`\nValues= [0.0, -1.0, -1.9, -2.71, -1.0, -1.9, -2.71, -1.9, -1.9, -2.71, -1.9, -1.0, -2.71, -1.9, -1.0]\nPolicy= ['up', 'left', 'left', 'down', 'up', 'up', 'up', 'down', 'up', 'up', 'down', 'down', 'up', 'right', 'right']\n`"
    },
    {
      "metadata": {
        "collapsed": true
      },
      "cell_type": "markdown",
      "source": "Now, test our function using the test_dp helper.  The helper also uses the gw MDP, but with a different gamma value.\nIf our function passes all tests, a passcode will be printed."
    },
    {
      "metadata": {
        "trusted": true
      },
      "cell_type": "code",
      "source": "# test our function using the test_db helper\ntest_dp.value_iteration_test( value_iteration ) ",
      "execution_count": 12,
      "outputs": [
        {
          "output_type": "stream",
          "text": "\nTesting: Value Iteration\npassed test: return value is tuple\npassed test: length of tuple = 2\npassed test: v is list of length=15\npassed test: values of v elements\npassed test: pi is list of length=15\npassed test: values of pi elements\nPASSED: Value Iteration passcode = *****\n",
          "name": "stdout"
        }
      ]
    },
    {
      "metadata": {
        "trusted": true
      },
      "cell_type": "code",
      "source": "",
      "execution_count": null,
      "outputs": []
    }
  ],
  "metadata": {
    "kernelspec": {
      "name": "python3",
      "display_name": "Python 3",
      "language": "python"
    },
    "language_info": {
      "mimetype": "text/x-python",
      "nbconvert_exporter": "python",
      "name": "python",
      "pygments_lexer": "ipython3",
      "version": "3.5.4",
      "file_extension": ".py",
      "codemirror_mode": {
        "version": 3,
        "name": "ipython"
      }
    }
  },
  "nbformat": 4,
  "nbformat_minor": 2
}
